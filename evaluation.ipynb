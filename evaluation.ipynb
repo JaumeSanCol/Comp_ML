{
 "cells": [
  {
   "cell_type": "code",
   "execution_count": null,
   "metadata": {},
   "outputs": [],
   "source": [
    "def recommend(model, user_id, business_ids, top_n=10):\n",
    "    \"\"\"\n",
    "    Recommend the top N businesses for a given user based on predicted ratings.\n",
    "    \n",
    "    Parameters:\n",
    "    model: A model that takes (user_id, business_id) as input and predicts a rating between 1 and 5.\n",
    "    user_id: The ID of the user for whom recommendations are being generated.\n",
    "    business_ids: A list of business IDs to consider for recommendation.\n",
    "    top_n: The number of top recommendations to return (default is 10).\n",
    "    \n",
    "    Returns:\n",
    "    A sorted list of (business_id, predicted_rating) tuples, in descending order of predicted rating.\n",
    "    \"\"\"\n",
    "    predictions = [(business_id, model.predict(user_id, business_id)) for business_id in business_ids]\n",
    "    \n",
    "    # Sort businesses by predicted rating in descending order and return the top_n\n",
    "    recommendations = sorted(predictions, key=lambda x: x[1], reverse=True)[:top_n]\n",
    "    \n",
    "    return recommendations\n",
    "\n",
    "\n",
    "def evaluate(model, test_df, threshold=3, top_n=10):\n",
    "    \"\"\"\n",
    "    Evaluate the recommendation model using precision and recall.\n",
    "    \n",
    "    Parameters:\n",
    "    model: A model that predicts ratings for (user_id, business_id) pairs.\n",
    "    test_df: A DataFrame containing columns ['user_id', 'business_id', 'rating'].\n",
    "    threshold: The minimum rating to consider a business as relevant (default is 3).\n",
    "    top_n: The number of top recommendations to consider per user (default is 10).\n",
    "    \n",
    "    Returns:\n",
    "    A tuple (recall, precision) for the model's recommendations.\n",
    "    \"\"\"\n",
    "    total_relevant = 0\n",
    "    total_recommended = 0\n",
    "    total_matched = 0\n",
    "    \n",
    "    users = test_df['user_id'].unique()\n",
    "    \n",
    "    for user_id in users:\n",
    "        user_data = test_df[test_df['user_id'] == user_id]\n",
    "        actual_relevant = set(user_data[user_data['rating'] >= threshold]['business_id'])\n",
    "        \n",
    "        recommended = set(business_id for business_id, _ in recommend(model, user_id, user_data['business_id'].tolist(), top_n))\n",
    "        \n",
    "        total_relevant += len(actual_relevant)\n",
    "        total_recommended += len(recommended)\n",
    "        total_matched += len(actual_relevant & recommended)\n",
    "        #this is to watch the progressive metrics if th eevaluation is taking long.\n",
    "        print(total_matched / total_relevant) if total_relevant > 0 else 0\n",
    "        print(total_matched / total_recommended) if total_recommended > 0 else 0\n",
    "    \n",
    "    recall = total_matched / total_relevant if total_relevant > 0 else 0\n",
    "    precision = total_matched / total_recommended if total_recommended > 0 else 0\n",
    "    \n",
    "    return recall, precision"
   ]
  },
  {
   "cell_type": "code",
   "execution_count": null,
   "metadata": {},
   "outputs": [],
   "source": []
  }
 ],
 "metadata": {
  "kernelspec": {
   "display_name": "Python 3",
   "language": "python",
   "name": "python3"
  },
  "language_info": {
   "codemirror_mode": {
    "name": "ipython",
    "version": 3
   },
   "file_extension": ".py",
   "mimetype": "text/x-python",
   "name": "python",
   "nbconvert_exporter": "python",
   "pygments_lexer": "ipython3",
   "version": "3.11.9"
  }
 },
 "nbformat": 4,
 "nbformat_minor": 2
}
